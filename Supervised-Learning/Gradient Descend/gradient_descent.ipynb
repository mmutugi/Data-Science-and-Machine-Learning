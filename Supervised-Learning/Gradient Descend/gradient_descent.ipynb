{
 "cells": [
  {
   "cell_type": "markdown",
   "metadata": {},
   "source": [
    "<div align=\"center\">\n",
    "\n",
    "# <span style=\"font-size: 2em;\">Welcome gradient Descent!</span>\n",
    "\n",
    "</div>\n",
    "\n",
    "<p align=\"center\">\n",
    "  <img src=\"gradient.png\" alt=\"Header\" />\n",
    "</p>\n",
    "\n",
    "<div align=\"center\">\n",
    "\n",
    "# <span style=\"font-size: em;\">The Gist!</span>\n",
    "\n",
    "</div>\n",
    "\n",
    "I would describe this notebook as a precursor to Regression. This notebook explains the Gist of gradient descent, which I will use to train a single Neuron Model in the Linear Regression chapter.\n",
    "\n",
    "So, previously in the Perceptro, we observed that the cost function ideally measures the performance of a model. Primary, the return of a cost function should be minimal when the model is performing well and a maximal when the model's predictions if further from the true solution. Remember the cost function is a function of the weights...\n",
    "Starting with some guessed weights, we can model some cost function, and an update rule which effectively updates the weights until we have the minimum \n",
    "\n",
    "\n"
   ]
  }
 ],
 "metadata": {
  "language_info": {
   "name": "python"
  }
 },
 "nbformat": 4,
 "nbformat_minor": 2
}
