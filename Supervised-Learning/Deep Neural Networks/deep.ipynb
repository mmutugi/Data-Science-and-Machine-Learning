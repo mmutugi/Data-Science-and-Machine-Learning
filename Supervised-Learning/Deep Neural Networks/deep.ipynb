{
 "cells": [
  {
   "cell_type": "markdown",
   "metadata": {},
   "source": [
    "<div align=\"center\">\n",
    "\n",
    "<h1 style=\"font-size: 2em;\">Welcome to Deep Neural Networks!</h1>\n",
    "\n",
    "<img src=\"deep.png\" alt=\"Deep\" style=\"width: 60%; margin: 20px 0;\" />\n",
    "\n",
    "<h2 style=\"font-size: 1.5em;\">Sooo Deep!</h2>\n",
    "\n",
    "</div>\n",
    "\n",
    "\n",
    "\n",
    "\n",
    "# Introduction to Deep Neural Networks (DNNs)\n",
    "\n",
    "Deep Neural Networks (DNNs) are the foundation of modern artificial intelligence. Whether it's recognizing handwritten digits, detecting diseases from images, or powering voice assistants — DNNs are behind many of today's intelligent systems.\n",
    "\n",
    "##  What is a Neural Network?\n",
    "\n",
    "A **neural network** is a machine learning model inspired by the structure of the human brain. It consists of artificial \"neurons\" that process information:\n",
    "\n",
    "- Each neuron receives inputs (features)\n",
    "- It multiplies them by **weights**, adds a **bias**\n",
    "- Then passes the result through an **activation function** (like sigmoid, ReLU, or tanh)\n",
    "- The output is then sent to the next layer\n",
    "\n",
    "The simplest form is the **single-layer perceptron**, which can only solve linearly separable problems (and I have previosuly explained the perceptron here).\n",
    "\n",
    "---\n",
    "\n",
    "## What Makes It “Deep”?\n",
    "\n",
    "A **Deep Neural Network** has **multiple hidden layers** between the input and output layers.\n",
    "\n",
    "Each layer extracts a more complex and abstract feature:\n",
    "\n",
    "for instance, you can think of the layers as:\n",
    "- Early layers detect **edges**\n",
    "- Middle layers capture **shapes**\n",
    "- Deeper layers identify **concepts** (digits, faces, objects)\n",
    "\n",
    "This depth gives DNNs the power to model highly non-linear and abstract relationships in data.\n",
    "\n",
    "---\n",
    "## How Does a DNN Learn?\n",
    "\n",
    "Training a DNN involves(Later described in detail):\n",
    "\n",
    "1. **Forward pass**: Inputs are passed through the network to get predictions.\n",
    "2. **Loss computation**: The difference between predictions and true labels is calculated using a **loss function**.\n",
    "3. **Backward pass**: Gradients are computed via **backpropagation**.\n",
    "4. **Update weights**: Weights are adjusted using **gradient descent** to minimize the loss.\n",
    "\n",
    "This process is repeated over many **epochs** until the model converges.\n",
    "---\n",
    "\n",
    "## Why Deep Learning Works for bigger problems\n",
    "\n",
    "- Multiple layers = more learning power\n",
    "- Non-linear activation functions let us model complex data\n",
    "- With enough **data** and **compute power**, DNNs can achieve **really good** results\n",
    "\n",
    "---\n",
    "\n",
    "## This implementation\n",
    "I consider this the hardest of the models and so, I'll use the tried and tested Fashion-MNIST data that is publicly available on the web(). MNIST consists of 70,000 images of fashion clothing, 60,000 of which are typically used as labeled training examples and the other 10,000 used for testing your learning model on. I load the data with **tensorFlow.keras** \n",
    "For this digit recognition task:\n",
    "\n",
    "- **Input**: 28×28 grayscale image (flattened to 784 pixels)\n",
    "- **Output**: A vector of 10 probabilities (for digits 0–9)\n",
    "- **Architecture**:\n",
    "  - Input layer: 784 neurons\n",
    "  - Hidden layer 1: 60 neurons\n",
    "  - Hidden layer 2: 60 neurons\n",
    "  - Output layer: 10 neurons \n",
    "\n",
    "Then my model is able to predict the digits accurately once fully trained successfully.\n",
    "\n",
    "\n",
    "## This implementation\n",
    "\n",
    "This is a **from scratch** implementation but a followup is done with TensorFlow.\n",
    "---\n",
    "\n",
    "## The data Labels for MNIST fashion for look-up purposes are: \n",
    "\n",
    "` - 0: T-shirt/top\n",
    "- 1: Trouser\n",
    "- 2: Pullover\n",
    "- 3: Dress\n",
    "- 4: Coat\n",
    "- 5: Sandal\n",
    "- 6: Shirt\n",
    "- 7: Sneaker\n",
    "- 8: Bag\n",
    "- 9: Ankle boot\n",
    "`\n"
   ]
  },
  {
   "cell_type": "code",
   "execution_count": 1,
   "metadata": {},
   "outputs": [],
   "source": [
    "from tensorflow import keras \n",
    "import numpy as np\n",
    "import matplotlib.pyplot as plt\n",
    "\n",
    "# Use the keras module to import the necessary data \n",
    "(train_X, train_y), (test_X, test_y) = keras.datasets.fashion_mnist.load_data()"
   ]
  },
  {
   "cell_type": "code",
   "execution_count": 2,
   "metadata": {},
   "outputs": [
    {
     "name": "stdout",
     "output_type": "stream",
     "text": [
      "np.shape(train_X) =(60000, 28, 28)\n",
      "np.shape(test_X) = (10000, 28, 28) \n",
      "\n",
      "np.shape(train_X[0]) = (28, 28)\n",
      "np.shape(test_X[0]) = (28, 28) \n",
      "\n",
      "train_X[0] = [[  0   0   0   0   0   0   0   0   0   0   0   0   0   0   0   0   0   0\n",
      "    0   0   0   0   0   0   0   0   0   0]\n",
      " [  0   0   0   0   0   0   0   0   0   0   0   0   0   0   0   0   0   0\n",
      "    0   0   0   0   0   0   0   0   0   0]\n",
      " [  0   0   0   0   0   0   0   0   0   0   0   0   0   0   0   0   0   0\n",
      "    0   0   0   0   0   0   0   0   0   0]\n",
      " [  0   0   0   0   0   0   0   0   0   0   0   0   1   0   0  13  73   0\n",
      "    0   1   4   0   0   0   0   1   1   0]\n",
      " [  0   0   0   0   0   0   0   0   0   0   0   0   3   0  36 136 127  62\n",
      "   54   0   0   0   1   3   4   0   0   3]\n",
      " [  0   0   0   0   0   0   0   0   0   0   0   0   6   0 102 204 176 134\n",
      "  144 123  23   0   0   0   0  12  10   0]\n",
      " [  0   0   0   0   0   0   0   0   0   0   0   0   0   0 155 236 207 178\n",
      "  107 156 161 109  64  23  77 130  72  15]\n",
      " [  0   0   0   0   0   0   0   0   0   0   0   1   0  69 207 223 218 216\n",
      "  216 163 127 121 122 146 141  88 172  66]\n",
      " [  0   0   0   0   0   0   0   0   0   1   1   1   0 200 232 232 233 229\n",
      "  223 223 215 213 164 127 123 196 229   0]\n",
      " [  0   0   0   0   0   0   0   0   0   0   0   0   0 183 225 216 223 228\n",
      "  235 227 224 222 224 221 223 245 173   0]\n",
      " [  0   0   0   0   0   0   0   0   0   0   0   0   0 193 228 218 213 198\n",
      "  180 212 210 211 213 223 220 243 202   0]\n",
      " [  0   0   0   0   0   0   0   0   0   1   3   0  12 219 220 212 218 192\n",
      "  169 227 208 218 224 212 226 197 209  52]\n",
      " [  0   0   0   0   0   0   0   0   0   0   6   0  99 244 222 220 218 203\n",
      "  198 221 215 213 222 220 245 119 167  56]\n",
      " [  0   0   0   0   0   0   0   0   0   4   0   0  55 236 228 230 228 240\n",
      "  232 213 218 223 234 217 217 209  92   0]\n",
      " [  0   0   1   4   6   7   2   0   0   0   0   0 237 226 217 223 222 219\n",
      "  222 221 216 223 229 215 218 255  77   0]\n",
      " [  0   3   0   0   0   0   0   0   0  62 145 204 228 207 213 221 218 208\n",
      "  211 218 224 223 219 215 224 244 159   0]\n",
      " [  0   0   0   0  18  44  82 107 189 228 220 222 217 226 200 205 211 230\n",
      "  224 234 176 188 250 248 233 238 215   0]\n",
      " [  0  57 187 208 224 221 224 208 204 214 208 209 200 159 245 193 206 223\n",
      "  255 255 221 234 221 211 220 232 246   0]\n",
      " [  3 202 228 224 221 211 211 214 205 205 205 220 240  80 150 255 229 221\n",
      "  188 154 191 210 204 209 222 228 225   0]\n",
      " [ 98 233 198 210 222 229 229 234 249 220 194 215 217 241  65  73 106 117\n",
      "  168 219 221 215 217 223 223 224 229  29]\n",
      " [ 75 204 212 204 193 205 211 225 216 185 197 206 198 213 240 195 227 245\n",
      "  239 223 218 212 209 222 220 221 230  67]\n",
      " [ 48 203 183 194 213 197 185 190 194 192 202 214 219 221 220 236 225 216\n",
      "  199 206 186 181 177 172 181 205 206 115]\n",
      " [  0 122 219 193 179 171 183 196 204 210 213 207 211 210 200 196 194 191\n",
      "  195 191 198 192 176 156 167 177 210  92]\n",
      " [  0   0  74 189 212 191 175 172 175 181 185 188 189 188 193 198 204 209\n",
      "  210 210 211 188 188 194 192 216 170   0]\n",
      " [  2   0   0   0  66 200 222 237 239 242 246 243 244 221 220 193 191 179\n",
      "  182 182 181 176 166 168  99  58   0   0]\n",
      " [  0   0   0   0   0   0   0  40  61  44  72  41  35   0   0   0   0   0\n",
      "    0   0   0   0   0   0   0   0   0   0]\n",
      " [  0   0   0   0   0   0   0   0   0   0   0   0   0   0   0   0   0   0\n",
      "    0   0   0   0   0   0   0   0   0   0]\n",
      " [  0   0   0   0   0   0   0   0   0   0   0   0   0   0   0   0   0   0\n",
      "    0   0   0   0   0   0   0   0   0   0]]\n"
     ]
    }
   ],
   "source": [
    "print(f\"np.shape(train_X) ={np.shape(train_X)}\")\n",
    "print(f\"np.shape(test_X) = {np.shape(test_X)} \\n\")\n",
    "\n",
    "print(f\"np.shape(train_X[0]) = {np.shape(train_X[0])}\")\n",
    "print(f\"np.shape(test_X[0]) = {np.shape(test_X[0])} \\n\")\n",
    "\n",
    "print(f\"train_X[0] = {train_X[0]}\")"
   ]
  },
  {
   "cell_type": "code",
   "execution_count": 3,
   "metadata": {},
   "outputs": [
    {
     "name": "stdout",
     "output_type": "stream",
     "text": [
      "train_y[0] = 9 \n",
      "\n"
     ]
    },
    {
     "data": {
      "image/png": "[encoded data removed]",
      "text/plain": [
       "<Figure size 600x500 with 1 Axes>"
      ]
     },
     "metadata": {},
     "output_type": "display_data"
    }
   ],
   "source": [
    "print(f\"{train_y[0] = } \\n\")\n",
    "plt.figure(figsize=(6, 5))\n",
    "plt.imshow(train_X[0], cmap=\"gray\")\n",
    "plt.show()"
   ]
  },
  {
   "cell_type": "markdown",
   "metadata": {},
   "source": [
    "When working with image data in deep learning, each image is typically represented as a matrix of pixel values. For grayscale images of size 28×28 (like those in the MNIST dataset), this gives us a 2D array of 784 values.\n",
    "\n",
    "However, most neural networks expect flat vectors as input — not 2D images. To make an image compatible with the network, we need to flatten it: that is, convert the 28×28 matrix into a single column vector of 784 entries.\n",
    "\n",
    "This process transforms the image into a shape the network understands, making it just another vector of input features, similar to what we’d use for simpler tasks like linear regression or logistic classification.\n",
    "\n",
    "To prepare each image for input into the neural network, we first need to convert the image matrix into a column vector. This can be done using the `flatten()` method followed by `reshape(784, 1)` to ensure that the resulting structure is a column vector with 784 rows.\n",
    "\n",
    "Since each image is 28×28 pixels, flattening results in a vector of length 784. The pixel values in these vectors typically range from **0 to 255**, which can introduce numerical instability during training. Large input ranges may lead to inefficient or unstable updates to the network’s weights and biases.\n",
    "\n",
    "A simple and effective solution is to **scale all pixel values to fall within the interval [0, 1]**. This can be achieved by dividing every pixel by the maximum possible value — in this case, 255. This normalization step helps ensure smoother and more stable learning.\n"
   ]
  },
  {
   "cell_type": "code",
   "execution_count": 4,
   "metadata": {},
   "outputs": [],
   "source": [
    "train_X = train_X/255\n",
    "test_X = test_X/255\n",
    "\n",
    "# Flatten the training images into coloumn vectors. \n",
    "flat_train_X = []\n",
    "# One hot encode the training labels\n",
    "onehot_train_y = []\n",
    "\n",
    "for x, y in zip(train_X, train_y):\n",
    "    flat_train_X.append(x.flatten().reshape(784, 1))\n",
    "    temp_vec = np.zeros((10, 1))\n",
    "    temp_vec[y][0] = 1.0\n",
    "    onehot_train_y.append(temp_vec)\n",
    "   \n",
    "\n",
    "# Do the same for the testing data \n",
    "flat_test_X = []\n",
    "onehot_test_y = []\n",
    "\n",
    "for x, y in zip(test_X, test_y):\n",
    "    flat_test_X.append(x.flatten().reshape(784, 1))\n",
    "    temp_vec = np.zeros((10, 1))\n",
    "    temp_vec[y] = 1.0\n",
    "    onehot_test_y.append(temp_vec)"
   ]
  },
  {
   "cell_type": "markdown",
   "metadata": {},
   "source": [
    "\n",
    "## Activation Functions\n",
    "\n",
    "Activation functions introduce non-linearity into the network, allowing it to learn complex patterns that go beyond simple linear relationships. They are applied to the output of each neuron (or node) in a layer.\n",
    "\n",
    "### My implementation\n",
    "\n",
    "One of the most popular activation functions is the sigmoid function:\n",
    "\n",
    "$$ \\sigma(x) = \\frac{1}{1 + e^{-x}} $$\n",
    "\n",
    "And the cost function is the Mean Square Root error(Although as shown before, this can be anything with similar effect)\n",
    "$$ C(W,b) = \\frac{1}{2} \\sum_{i=1}^{N} (y_i - \\hat{y}_i)^2 $$\n",
    "\n",
    "---"
   ]
  },
  {
   "cell_type": "code",
   "execution_count": 5,
   "metadata": {},
   "outputs": [],
   "source": [
    "def sigmoid(z):\n",
    "    return 1.0/(1.0+np.exp(-z))\n",
    "\n",
    "def d_sigmoid(z): # Derivative of sigmoid   \n",
    "    return sigmoid(z)*(1.0 - sigmoid(z))\n",
    "\n",
    "def mse(a, y): # Mean Squared Error(our cost function)\n",
    "    return .5*sum((a[i] - y[i])**2 for i in range(10))[0]"
   ]
  },
  {
   "cell_type": "code",
   "execution_count": 6,
   "metadata": {},
   "outputs": [],
   "source": [
    "import numpy as np\n",
    "\n",
    "def initialize_weights(layers = [784, 60, 60, 10]):\n",
    "    '''Initializes weights and biases for our Dense neural network.\n",
    "\n",
    "    Weights are drawn from a normal distribution centered on 0,\n",
    "    scaled by the square root of 2 divided by the size of the previous layer.\n",
    "    Biases are initialized similarly (Thanks to Dr. Davila Randy).\n",
    "\n",
    "    Args:\n",
    "        layers (list, optional): A list of integers where each element\n",
    "            represents the number of neurons in a layer. The first element\n",
    "            is the input layer size, and subsequent elements are the sizes\n",
    "            of the hidden and output layers.\n",
    "            Defaults to [784, 60, 60, 10].\n",
    "\n",
    "    Returns:\n",
    "        tuple: A tuple containing two lists:\n",
    "            - W (list): A list of numpy arrays representing the weight matrices\n",
    "              for each layer (from layer 1 onwards). `W[i]` contains the\n",
    "              weights connecting layer `i-1` to layer `i`, with shape\n",
    "              (layers[i], layers[i-1]). The first element `W[0]` is a\n",
    "              placeholder `[[0.0]]` and is not used.\n",
    "            - B (list): A list of numpy arrays representing the bias vectors\n",
    "              for each layer (from layer 1 onwards). `B[i]` contains the\n",
    "              biases for layer `i`, with shape (layers[i], 1). The first\n",
    "              element `B[0]` is a placeholder `[[0.0]]` and is not used.\n",
    "\n",
    "    Example:\n",
    "        >>> W, B = initialize_weights([784, 128, 10])\n",
    "        >>> print(len(W)) # Output: 3 (includes placeholder)\n",
    "        >>> print(W[1].shape) # Output: (128, 784)\n",
    "        >>> print(B[1].shape) # Output: (128, 1)\n",
    "        >>> print(W[2].shape) # Output: (10, 128)\n",
    "        >>> print(B[2].shape) # Output: (10, 1)\n",
    "    '''\n",
    "    W = [[0.0]]\n",
    "    B = [[0.0]]\n",
    "\n",
    "    # Iterate through the layers, starting from the first hidden layer (index 1)\n",
    "    for i in range(1, len(layers)):\n",
    "        w_temp = np.random.randn(layers[i], layers[i-1]) * np.sqrt(2 / layers[i-1])\n",
    "        b_temp = np.random.randn(layers[i], 1) * np.sqrt(2 / layers[i-1])\n",
    "\n",
    "        W.append(w_temp)\n",
    "        B.append(b_temp)\n",
    "    return W, B\n",
    "\n",
    "\n"
   ]
  },
  {
   "cell_type": "code",
   "execution_count": 7,
   "metadata": {},
   "outputs": [
    {
     "name": "stdout",
     "output_type": "stream",
     "text": [
      "np.shape(a0) = (784, 1) \n",
      "\n",
      "np.shape(W[1]) = (60, 784)\n",
      "np.shape(z1) = (60, 1)\n",
      "np.shape(a1) = (60, 1) \n",
      "\n",
      "np.shape(W[2]) = (60, 60)\n",
      "np.shape(z2) = (60, 1)\n",
      "np.shape(a2) = (60, 1) \n",
      "\n",
      "np.shape(W[3]) = (10, 60)\n",
      "np.shape(z3) = (10, 1)\n",
      "np.shape(a3) = (10, 1) \n",
      "\n",
      "Prediction: np.argmax(y_hat) = 5\n",
      "Target Label: np.argmax(yi) = 9\n",
      "mse(y_hat, yi) = 1.339705830131836\n"
     ]
    }
   ],
   "source": [
    "W, B = initialize_weights()\n",
    "\n",
    "xi = flat_train_X[0]\n",
    "yi = onehot_train_y[0]\n",
    "a0 = xi\n",
    "\n",
    "print(f\"np.shape(a0) = {np.shape(a0)} \\n\")\n",
    "\n",
    "z1 = W[1] @ a0 + B[1]\n",
    "a1 = sigmoid(z1)\n",
    "\n",
    "print(f\"np.shape(W[1]) = {np.shape(W[1])}\")\n",
    "print(f\"np.shape(z1) = {np.shape(z1)}\")\n",
    "print(f\"np.shape(a1) = {np.shape(a1)} \\n\")\n",
    "\n",
    "z2 = W[2] @ a1 + B[2]\n",
    "a2 = sigmoid(z2)\n",
    "\n",
    "print(f\"np.shape(W[2]) = {np.shape(W[2])}\")\n",
    "print(f\"np.shape(z2) = {np.shape(z2)}\")\n",
    "print(f\"np.shape(a2) = {np.shape(a2)} \\n\")\n",
    "\n",
    "z3 = W[3] @ a2 + B[3]\n",
    "a3 = sigmoid(z3)\n",
    "y_hat = a3\n",
    "print(f\"np.shape(W[3]) = {np.shape(W[3])}\")\n",
    "print(f\"np.shape(z3) = {np.shape(z3)}\")\n",
    "print(f\"np.shape(a3) = {np.shape(a3)} \\n\")\n",
    "\n",
    "\n",
    "print(f\"Prediction: np.argmax(y_hat) = {np.argmax(y_hat)}\")\n",
    "print(f\"Target Label: np.argmax(yi) = {np.argmax(yi)}\")\n",
    "print(f\"mse(y_hat, yi) = {mse(y_hat, yi)}\")"
   ]
  },
  {
   "cell_type": "markdown",
   "metadata": {},
   "source": [
    "\n",
    "\n",
    "# Feedforward Phase\n",
    "\n",
    "The feedforward phase describes how input data propagates through the layers of a neural network to produce an output prediction. For a network with $L$ layers, the process for each layer $\\ell$ (from $\\ell=1$ to $L$) involves two main steps:\n",
    "\n",
    "1.  **Preactivation ($z^\\ell$)**: This step computes a weighted linear combination of the activations from the previous layer ($a^{\\ell-1}$) and adds the bias term ($b^\\ell$) specific to the current layer $\\ell$.\n",
    "    $$ z^\\ell = W^\\ell a^{\\ell-1} + b^\\ell $$\n",
    "    Here, $W^\\ell$ is the weight matrix connecting layer $\\ell-1$ to layer $\\ell$, and $b^\\ell$ is the bias vector for layer $\\ell$.\n",
    "\n",
    "2.  **Postactivation ($a^\\ell$)**: The preactivation value $z^\\ell$ is then passed through a non-linear activation function $\\sigma$ (Sigmoid in this case). This function is applied elementwise to the vector $z^\\ell$.\n",
    "    $$ a^\\ell = \\sigma(z^\\ell) $$\n",
    "    The result, $a^\\ell$, represents the output (activations) of layer $\\ell$, which serves as the input to the next layer, $\\ell+1$.\n",
    "\n",
    "**Initial Input:**\n",
    "It's important to note that the activation of the \"zeroth\" layer ($a^0$) is simply the input data sample itself:\n",
    "$$ a^0 = x^{(i)} $$\n",
    "where $x^{(i)}$ is the $i$-th input vector fed into the network.\n",
    "\n",
    "The final output of the network is the activation of the last layer, $a^L$.\n",
    "\n",
    "---\n",
    "\n"
   ]
  },
  {
   "cell_type": "code",
   "execution_count": 8,
   "metadata": {},
   "outputs": [
    {
     "name": "stdout",
     "output_type": "stream",
     "text": [
      "Prediction: np.argmax(y_hat) = 5\n",
      "Target Label: np.argmax(yi) = 9\n",
      "mse(y_hat, yi) = 1.339705830131836\n"
     ]
    }
   ],
   "source": [
    "def forward_pass(W, B, xi, predict_vector = False):\n",
    "\n",
    "    \"\"\"Performs the feedforward pass through the neural network.\n",
    "\n",
    "    Calculates the preactivation (Z) and postactivation (A) values for each\n",
    "    layer of the network for a single input sample xi, using the sigmoid\n",
    "    activation function.\n",
    "\n",
    "    Args:\n",
    "        W (list): A list of numpy arrays representing the weight matrices\n",
    "                  for each layer (starting from layer 1). W[i] connects\n",
    "                  layer i-1 to layer i. Assumes W[0] is a placeholder.\n",
    "        B (list): A list of numpy arrays representing the bias vectors\n",
    "                  for each layer (starting from layer 1). B[i] is the bias\n",
    "                  for layer i. Assumes B[0] is a placeholder.\n",
    "        xi (numpy.ndarray): The input data sample, expected to be a column\n",
    "                            vector (shape: [input_size, 1]). This corresponds\n",
    "                            to the activation of the 0-th layer (a^0).\n",
    "        predict_vector (bool, optional): If False (default), returns all\n",
    "                                         intermediate Z and A values. If True,\n",
    "                                         returns only the final activation\n",
    "                                         vector A[L].\n",
    "\n",
    "    Returns:\n",
    "        tuple or numpy.ndarray:\n",
    "            - If predict_vector is False: A tuple (Z, A) where:\n",
    "                - Z (list): List of preactivation vectors for each layer\n",
    "                            (starting from layer 1). Z[i] is the preactivation\n",
    "                            for layer i. Includes a placeholder at Z[0].\n",
    "                - A (list): List of activation vectors for each layer\n",
    "                            (starting from layer 0). A[0] is the input xi,\n",
    "                            and A[i] is the activation for layer i.\n",
    "            - If predict_vector is True: The final activation vector A[L]\n",
    "              (output of the last layer), as a numpy array.\n",
    "    \"\"\"\n",
    "    Z = [[0.0]]\n",
    "    A = [xi]\n",
    "    L = len(W) - 1\n",
    "    for i in range(1, L + 1):\n",
    "        z = W[i] @ A[i-1] + B[i]\n",
    "        Z.append(z)\n",
    "        \n",
    "        a = sigmoid(z)\n",
    "        A.append(a)\n",
    "        \n",
    "    if predict_vector == False:\n",
    "        return Z, A\n",
    "    else:\n",
    "        return A[-1]\n",
    "\n",
    "def predict(W, B, xi):\n",
    "    \"\"\"Predicts the class label for a single input sample.\n",
    "\n",
    "    Performs a forward pass and returns the index of the neuron with the\n",
    "    highest activation in the output layer. This index in theory corresponds to the\n",
    "    predicted class.\n",
    "\n",
    "    Args:\n",
    "        W (list): List of weight matrices.\n",
    "        B (list): List of bias vectors.\n",
    "        xi (numpy.ndarray): The input data sample (column vector).\n",
    "\n",
    "    Returns:\n",
    "        int: The index of the predicted class (0 to C-1, where C is the\n",
    "             number of output neurons).\n",
    "    \"\"\"\n",
    "\n",
    "    _, A = forward_pass(W, B, xi)\n",
    "    return np.argmax(A[-1])\n",
    "\n",
    "y_hat = forward_pass(W, B, flat_train_X[0], predict_vector=True)\n",
    "print(f\"Prediction: np.argmax(y_hat) = {np.argmax(y_hat)}\")\n",
    "print(f\"Target Label: np.argmax(yi) = {np.argmax(yi)}\")\n",
    "print(f\"mse(y_hat, yi) = {mse(y_hat, yi)}\")"
   ]
  },
  {
   "cell_type": "markdown",
   "metadata": {},
   "source": [
    "We can do prediction before training the data to show the performance as below."
   ]
  },
  {
   "cell_type": "code",
   "execution_count": 9,
   "metadata": {},
   "outputs": [],
   "source": [
    "def random_experiment(W, B, data_features, data_labels):\n",
    "    i = np.random.randint(len(data_features))\n",
    "    print(f\"Actual label: {np.argmax(data_labels[i])}\")\n",
    "    \n",
    "    print(f\"Predicted label: {predict(W, B, data_features[i])}\")\n",
    "    \n",
    "\n",
    "def MSE(W, B, X, y):\n",
    "    cost = 0.0\n",
    "    m = 0\n",
    "    for xi, yi in zip(X, y):\n",
    "        a = forward_pass(W, B, xi, predict_vector = True)\n",
    "        cost += mse(a, yi)\n",
    "        m+=1\n",
    "    return cost/m"
   ]
  },
  {
   "cell_type": "code",
   "execution_count": 10,
   "metadata": {},
   "outputs": [
    {
     "name": "stdout",
     "output_type": "stream",
     "text": [
      "MSE(W, B, flat_train_X, onehot_train_y) = 1.3588081476235212 \n",
      "\n",
      "Actual label: 0\n",
      "Predicted label: 6\n"
     ]
    }
   ],
   "source": [
    "print(f\"MSE(W, B, flat_train_X, onehot_train_y) = {MSE(W, B, flat_train_X, onehot_train_y)} \\n\")\n",
    "\n",
    "random_experiment(W, B, flat_train_X, onehot_train_y)"
   ]
  },
  {
   "cell_type": "markdown",
   "metadata": {},
   "source": [
    "# Backpropagation with Stochastic Gradient Descent (SGD)\n",
    "\n",
    "After the feedforward pass calculates the network's prediction, the **backpropagation** algorithm is used to compute the gradient of the cost function with respect to each weight and bias in the network. This gradient tells us how much a small change in each parameter would affect the overall error and allow us minimize the cost function.\n",
    "\n",
    "**Stochastic Gradient Descent (SGD)** is an optimization algorithm(as previously implemented in Logistic Regression) that uses these gradients to update the network's parameters (weights and biases) iteratively. In its basic form, SGD updates the parameters after processing each individual training sample ($i=1, \\dots, N$), although often mini-batches can be used in practice.\n",
    "\n",
    "The core steps for one iteration of SGD using backpropagation are elaborated as follows:\n",
    "\n",
    "**For each training sample $x^{(i)}$ (where $i=1, \\dots, N$):**\n",
    "\n",
    "1.  **Feedforward:**\n",
    "    * Pass the input $x^{(i)}$ through the network, calculating the preactivations $z^\\ell$ and activations $a^\\ell$ for all layers $\\ell=1, \\dots, L$.\n",
    "    * Store these intermediate values ($Z = [z^1, \\dots, z^L]$ and $A = [a^0, a^1, \\dots, a^L]$, where $a^0 = x^{(i)}$).\n",
    "\n",
    "2.  **Compute Output Layer Error ($\\delta^L$):**\n",
    "    * Calculate the error term for the output layer $L$. This depends on the gradient of the cost function $C$ with respect to the output activations $a^L$ ($\\nabla_a C$) and the derivative of the activation function $\\sigma'$ evaluated at the preactivation $z^L$.\n",
    "    * $$ \\delta^L = \\nabla_a C \\otimes \\sigma'(z^L) $$\n",
    "    * *Note: $\\nabla_a C$ depends on the specific cost function used (e.g., for MSE and sigmoid activation, it simplifies nicely). $\\otimes$ represents elementwise product.*\n",
    "\n",
    "3.  **Backpropagate Error ($\\delta^\\ell$):**\n",
    "    * Compute the error term for each hidden layer, moving backward from $\\ell = L-1$ down to $\\ell = 1$. The error $\\delta^\\ell$ is calculated based on the error from the next layer ($\\delta^{\\ell+1}$) and the weights connecting them ($W^{\\ell+1}$).\n",
    "    * $$ \\delta^\\ell = ((W^{\\ell+1})^T \\delta^{\\ell+1}) \\otimes \\sigma'(z^\\ell) $$\n",
    "    * *Note: $(W^{\\ell+1})^T$ is the transpose of the weight matrix connecting layer $\\ell$ to layer $\\ell+1$.*\n",
    "\n",
    "4.  **Compute Gradients & Update Parameters:**\n",
    "    * Calculate the gradients of the cost function with respect to each weight matrix $W^\\ell$ and bias vector $b^\\ell$.\n",
    "    * The gradient for the weights is: $\\frac{\\partial C}{\\partial W^\\ell} = \\delta^\\ell (a^{\\ell-1})^T$\n",
    "    * The gradient for the biases is: $\\frac{\\partial C}{\\partial b^\\ell} = \\delta^\\ell$\n",
    "    * Update the weights and biases for all layers ($\\ell = L, L-1, \\dots, 1$) using the learning rate $\\alpha$:\n",
    "    * $$ W^\\ell \\leftarrow W^\\ell - \\alpha \\frac{\\partial C}{\\partial W^\\ell} = W^\\ell - \\alpha \\delta^\\ell (a^{\\ell-1})^T $$\n",
    "    * $$ b^\\ell \\leftarrow b^\\ell - \\alpha \\frac{\\partial C}{\\partial b^\\ell} = b^\\ell - \\alpha \\delta^\\ell $$\n",
    "\n",
    "This entire process (Steps 1-4) is repeated for each training sample (in pure SGD) or for each mini-batch. Passing through the entire training dataset once is called an **epoch**, and training typically involves many epochs.\n"
   ]
  },
  {
   "cell_type": "code",
   "execution_count": 11,
   "metadata": {},
   "outputs": [],
   "source": [
    "from tqdm import tqdm\n",
    "class DenseNetwork(object):\n",
    "    \"\"\"\n",
    "    This class encapsulates the network's architecture, weights, biases,\n",
    "    and provides methods for training using Stochastic Gradient Descent (SGD)\n",
    "    with backpropagation, and for making predictions on new data.\n",
    "\n",
    "    Attributes:\n",
    "        layers (list): A list of integers defining the number of neurons in\n",
    "                       each layer, starting with the input layer.\n",
    "        W (list): A list of numpy arrays holding the weight matrices for\n",
    "                  connections between layers. W[i] connects layer i-1 to i.\n",
    "                  W[0] is a placeholder.\n",
    "        B (list): A list of numpy arrays holding the bias vectors for each\n",
    "                  layer. B[i] is the bias for layer i. B[0] is a placeholder.\n",
    "        errors_ (list): A list storing the Mean Squared Error (MSE) cost\n",
    "                        calculated at the beginning and after each epoch\n",
    "                        during training.\n",
    "    \"\"\"\n",
    "    def __init__(self, layers = [784, 60, 60, 10]):\n",
    "\n",
    "        '''Initializes the DenseNetwork.\n",
    "\n",
    "        Sets up the network architecture and initializes the weights (W)\n",
    "        and biases (B) using the `initialize_weights` function (expected\n",
    "        to use He initialization or similar).\n",
    "\n",
    "        Args:\n",
    "            layers (list, optional): A list specifying the number of neurons\n",
    "                in each layer, starting with the input layer size.\n",
    "                Defaults to [784, 60, 60, 10].'''\n",
    "        self.layers = layers\n",
    "        self.W, self.B = initialize_weights(layers = self.layers)\n",
    "\n",
    "    def train(self, X_train, y_train, alpha = 0.046, epochs = 4):\n",
    "        \"\"\"\n",
    "        Trains the neural network using Stochastic Gradient Descent (SGD).\n",
    "\n",
    "        Iterates through the training data for a specified number of epochs,\n",
    "        performing the feedforward and backpropagation steps for each sample\n",
    "        to update the network's weights and biases. Uses the sigmoid activation\n",
    "        function and its derivative, and assumes Mean Squared Error (MSE) as\n",
    "        the cost function implicitly in the backpropagation calculation\n",
    "        (specifically in the output error delta calculation).\n",
    "\n",
    "        Args:\n",
    "            X_train (list or numpy.ndarray): The training input data. Should\n",
    "                be a list or array where each element is a training sample\n",
    "                (e.g., a flattened image vector). Assumes samples are ready\n",
    "                to be fed into the network (e.g., shape [num_features, 1] or\n",
    "                flattened).\n",
    "            y_train (list or numpy.ndarray): The corresponding training target\n",
    "                labels. Should be a list or array where each element is the\n",
    "                target vector for a sample (e.g., a one-hot encoded vector).\n",
    "            alpha (float, optional): The learning rate for gradient descent.\n",
    "                Defaults to 0.046.\n",
    "            epochs (int, optional): The number of times to iterate through the\n",
    "                entire training dataset. Defaults to 4.\n",
    "        \"\"\"\n",
    "        # Print the initial mean squared error\n",
    "        self.errors_ = [MSE(self.W, self.B, X_train, y_train)]\n",
    "        print(f\"Starting Cost = {self.errors_[0]}\")\n",
    "\n",
    "        # Find your sample size\n",
    "        sample_size = len(X_train)\n",
    "\n",
    "        # Find the number of non-input layers.\n",
    "        L = len(self.layers) - 1\n",
    "\n",
    "        # For each epoch perform stochastic gradient descent. \n",
    "        for k in tqdm(range(epochs),desc=\"Training...\"):\n",
    "            # Loop over each (xi, yi) training pair of data.\n",
    "            for xi, yi in zip(X_train, y_train):\n",
    "                # Use the forward pass function defined before\n",
    "                # and find the preactivation and postactivation values.\n",
    "                Z, A = forward_pass(self.W, self.B, xi)\n",
    "\n",
    "                # Store the errors in a dictionary for clear interpretation\n",
    "                # of computation of these values.\n",
    "                deltas = dict()\n",
    "\n",
    "                # Compute the output error \n",
    "                output_error = (A[L] - yi)*d_sigmoid(Z[L])\n",
    "                deltas[L] = output_error\n",
    "\n",
    "                # Loop from L-1 to 1. Recall the right entry of the range function \n",
    "                # is non-inclusive. \n",
    "                for i in range(L-1, 0, -1):\n",
    "                    # Compute the node errors at each hidden layer\n",
    "                    deltas[i] = (self.W[i+1].T @ deltas[i+1])*d_sigmoid(Z[i])\n",
    "\n",
    "                # Loop over each hidden layer and the output layer to perform gradient \n",
    "                # descent. \n",
    "                for i in range(1, L+1):\n",
    "                    self.W[i] -= alpha*deltas[i] @ A[i-1].T\n",
    "                    self.B[i] -= alpha*deltas[i]\n",
    "\n",
    "            # Show the user the cost over all training examples\n",
    "            self.errors_.append(MSE(self.W, self.B, X_train, y_train))   \n",
    "            print(f\"{k + 1}-Epoch Cost = {self.errors_[-1]}\")\n",
    "    \n",
    "\n",
    "    def predict(self, xi):\n",
    "        \"\"\"\n",
    "        Predicts the class label for a single input sample.\n",
    "\n",
    "        Performs a feedforward pass using the current weights and biases\n",
    "        and returns the index of the neuron with the highest activation\n",
    "        in the output layer.\n",
    "\n",
    "        Args:\n",
    "            xi (numpy.ndarray): The input data sample (e.g., a flattened\n",
    "                image vector). Should be compatible with the network's\n",
    "                input layer size.\n",
    "\n",
    "        Returns:\n",
    "            int: The index corresponding to the predicted class label.\n",
    "        \"\"\"\n",
    "        depth = len(self.layers)\n",
    "        _, A = forward_pass(self.W, self.B, xi)\n",
    "        return np.argmax(A[-1])"
   ]
  },
  {
   "cell_type": "code",
   "execution_count": 12,
   "metadata": {},
   "outputs": [
    {
     "name": "stdout",
     "output_type": "stream",
     "text": [
      "MSE(net.W, net.B, flat_train_X, onehot_train_y) = 1.0422482277606158 \n",
      "\n",
      "predicted Item is: 4\n",
      "Actual Item is: 3\n"
     ]
    },
    {
     "data": {
      "image/png": "[encoded data removed]",
      "text/plain": [
       "<Figure size 800x800 with 1 Axes>"
      ]
     },
     "metadata": {},
     "output_type": "display_data"
    }
   ],
   "source": [
    "# Create a DenseNetwork object with an input layer of 784 nodes,\n",
    "# and a output layer with 10 nodes. \n",
    "net = DenseNetwork(layers = [784, 120, 145, 120, 10])\n",
    "\n",
    "# Check the mean squared error before training \n",
    "print(f\"MSE(net.W, net.B, flat_train_X, onehot_train_y) = {MSE(net.W, net.B, flat_train_X, onehot_train_y)} \\n\")\n",
    "\n",
    "# Make a random prediction before training\n",
    "i = np.random.randint(0, len(flat_test_X))\n",
    "prediction = net.predict(flat_test_X[i])\n",
    "print(f\"predicted Item is: {prediction}\")\n",
    "print(f\"Actual Item is: {np.argmax(onehot_test_y[i])}\")\n",
    "plt.figure(figsize=(8, 8))\n",
    "plt.imshow(test_X[i], cmap=\"gray\")\n",
    "plt.show()"
   ]
  },
  {
   "cell_type": "code",
   "execution_count": 13,
   "metadata": {},
   "outputs": [
    {
     "name": "stdout",
     "output_type": "stream",
     "text": [
      "Starting Cost = 1.0422482277606158\n"
     ]
    },
    {
     "name": "stderr",
     "output_type": "stream",
     "text": [
      "Training...:  25%|██▌       | 1/4 [02:15<06:47, 135.79s/it]"
     ]
    },
    {
     "name": "stdout",
     "output_type": "stream",
     "text": [
      "1-Epoch Cost = 0.12962419612978807\n"
     ]
    },
    {
     "name": "stderr",
     "output_type": "stream",
     "text": [
      "Training...:  50%|█████     | 2/4 [05:14<05:22, 161.28s/it]"
     ]
    },
    {
     "name": "stdout",
     "output_type": "stream",
     "text": [
      "2-Epoch Cost = 0.11081203861566828\n"
     ]
    },
    {
     "name": "stderr",
     "output_type": "stream",
     "text": [
      "Training...:  75%|███████▌  | 3/4 [07:38<02:33, 153.21s/it]"
     ]
    },
    {
     "name": "stdout",
     "output_type": "stream",
     "text": [
      "3-Epoch Cost = 0.10056855960316517\n"
     ]
    },
    {
     "name": "stderr",
     "output_type": "stream",
     "text": [
      "Training...: 100%|██████████| 4/4 [09:32<00:00, 143.22s/it]"
     ]
    },
    {
     "name": "stdout",
     "output_type": "stream",
     "text": [
      "4-Epoch Cost = 0.09494091975428313\n"
     ]
    },
    {
     "name": "stderr",
     "output_type": "stream",
     "text": [
      "\n"
     ]
    }
   ],
   "source": [
    "net.train(flat_train_X, onehot_train_y)"
   ]
  },
  {
   "cell_type": "code",
   "execution_count": 14,
   "metadata": {},
   "outputs": [
    {
     "data": {
      "image/png": "[encoded data removed]",
      "text/plain": [
       "<Figure size 1000x800 with 1 Axes>"
      ]
     },
     "metadata": {},
     "output_type": "display_data"
    }
   ],
   "source": [
    "plt.figure(figsize = (10, 8))\n",
    "epochs = range(len(net.errors_))\n",
    "plt.plot(epochs, net.errors_, marker = \"o\")\n",
    "plt.xticks(epochs)\n",
    "plt.xlabel(\"epochs\")\n",
    "plt.ylabel(\"Mean Squared Error\")\n",
    "plt.title(\"Network MSE During Training\", fontsize = 16)\n",
    "plt.show()"
   ]
  },
  {
   "cell_type": "code",
   "execution_count": 15,
   "metadata": {},
   "outputs": [
    {
     "name": "stdout",
     "output_type": "stream",
     "text": [
      "predicted digit is: 6\n",
      "actual digit is: 6\n"
     ]
    },
    {
     "data": {
      "image/png": "[encoded data removed]",
      "text/plain": [
       "<Figure size 800x800 with 1 Axes>"
      ]
     },
     "metadata": {},
     "output_type": "display_data"
    }
   ],
   "source": [
    "i = np.random.randint(0, len(flat_test_X))\n",
    "prediction = net.predict(flat_test_X[i])\n",
    "print(f\"predicted digit is: {prediction}\")\n",
    "print(f\"actual digit is: {np.argmax(onehot_test_y[i])}\")\n",
    "plt.figure(figsize=(8, 8))\n",
    "plt.imshow(test_X[i], cmap=\"gray\")\n",
    "plt.show()"
   ]
  },
  {
   "cell_type": "code",
   "execution_count": 16,
   "metadata": {},
   "outputs": [
    {
     "data": {
      "text/plain": [
       "0.8516"
      ]
     },
     "execution_count": 16,
     "metadata": {},
     "output_type": "execute_result"
    }
   ],
   "source": [
    "sum([int(net.predict(x) == y) for x, y in zip(flat_test_X, test_y)])/len(onehot_test_y)"
   ]
  }
 ],
 "metadata": {
  "kernelspec": {
   "display_name": "base",
   "language": "python",
   "name": "python3"
  },
  "language_info": {
   "codemirror_mode": {
    "name": "ipython",
    "version": 3
   },
   "file_extension": ".py",
   "mimetype": "text/x-python",
   "name": "python",
   "nbconvert_exporter": "python",
   "pygments_lexer": "ipython3",
   "version": "3.11.7"
  }
 },
 "nbformat": 4,
 "nbformat_minor": 2
}
