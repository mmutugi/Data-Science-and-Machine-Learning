{
 "cells": [
  {
   "cell_type": "code",
   "execution_count": 21,
   "metadata": {},
   "outputs": [],
   "source": [
    "import tensorflow as tf"
   ]
  },
  {
   "cell_type": "markdown",
   "metadata": {},
   "source": [
    "This document outlines a basic implementation of a neural network for classifying the Fashion MNIST dataset using TensorFlow and Keras in just a few steps.\n",
    "\n",
    "## 1. Load and Prepare Data\n",
    "\n",
    "First, we load the Fashion MNIST dataset and preprocess the images by normalizing the pixel values to be between 0 and 1.\n",
    "\n",
    "```python\n",
    "import tensorflow as tf\n",
    "import numpy as np\n",
    "\n",
    "\n",
    "mnist = tf.keras.datasets.fashion_mnist\n",
    "(x_train, y_train), (x_test, y_test) = mnist.load_data()\n",
    "\n",
    "\n",
    "x_train, x_test = x_train / 255.0, x_test / 255.0\n",
    "\n",
    "print(\"Training data shape:\", x_train.shape)\n",
    "print(\"Training labels shape:\", y_train.shape)\n",
    "print(\"Test data shape:\", x_test.shape)\n",
    "print(\"Test labels shape:\", y_test.shape)\n",
    "2. Define the Neural Network ModelWe define a sequential model with a Flatten layer, a Dense hidden layer with ReLU activation, a Dropout layer for regularization, and a Dense output layer with 10 units (for the 10 classes).model = tf.keras.models.Sequential([\n",
    "  tf.keras.layers.Flatten(input_shape=(28, 28)),\n",
    "  tf.keras.layers.Dense(128, activation='relu'),\n",
    "  tf.keras.layers.Dropout(0.2),\n",
    "  tf.keras.layers.Dense(10) \n",
    "])\n",
    "3. Initial Prediction and Softmax (Optional Check)Before training, we can make a prediction on a single instance to see the model's raw output (logits) and then apply softmax to convert these logits into probabilities.# Make a prediction on the first training image (before training)\n",
    "predictions_raw = model(x_train[:1]).numpy()\n",
    "print(\"Raw predictions (logits) for first image:\\n\", predictions_raw)\n",
    "\n",
    "\n",
    "probabilities = tf.nn.softmax(predictions_raw).numpy()\n",
    "print(\"\\nProbabilities for first image:\\n\", probabilities)\n",
    "4. Define Loss Function and Compile the ModelWe use SparseCategoricalCrossentropy as the loss function. Since the output layer produces logits, we set from_logits=True. The model is compiled with the Adam optimizer and will track accuracy as a metric.# Define the loss function\n",
    "loss_fn = tf.keras.losses.SparseCategoricalCrossentropy(from_logits=True)\n",
    "\n",
    "\n",
    "initial_loss = loss_fn(y_train[:1], predictions_raw).numpy()\n",
    "print(\"\\nInitial loss for the first image:\", initial_loss)\n",
    "\n",
    "# Compile the model\n",
    "model.compile(optimizer='adam',\n",
    "              loss=loss_fn,\n",
    "              metrics=['accuracy'])\n",
    "\n",
    "print(\"\\nModel compiled successfully.\")\n",
    "5. Train the ModelThe model is trained on the training data for a specified number of epochs.print(\"\\n--- Starting Model Training ---\")\n",
    "history = model.fit(x_train, y_train, epochs=5)\n",
    "print(\"--- Model Training Finished ---\")\n",
    "6. Evaluate the ModelAfter training, the model's performance is evaluated on the test dataset.print(\"\\n--- Evaluating Model on Test Data ---\")\n",
    "test_loss, test_acc = model.evaluate(x_test,  y_test, verbose=2)\n",
    "print(f\"\\nTest accuracy: {test_acc*100:.2f}%\")\n",
    "print(f\"Test loss: {test_loss:.4f}\")\n",
    "This provides a complete"
   ]
  },
  {
   "cell_type": "code",
   "execution_count": 22,
   "metadata": {},
   "outputs": [],
   "source": [
    "mnist= tf.keras.datasets.fashion_mnist\n",
    "\n",
    "(x_train, y_train), (x_test, y_test) = mnist.load_data()\n",
    "x_train, x_test = x_train / 255.0, x_test / 255.0"
   ]
  },
  {
   "cell_type": "code",
   "execution_count": 23,
   "metadata": {},
   "outputs": [
    {
     "data": {
      "text/plain": [
       "array([[ 0.06602076,  0.4860127 ,  0.81920016,  0.5806501 , -0.4332042 ,\n",
       "        -1.1838189 , -0.47440606,  1.0618491 ,  1.031525  , -0.07627884]],\n",
       "      dtype=float32)"
      ]
     },
     "execution_count": 23,
     "metadata": {},
     "output_type": "execute_result"
    }
   ],
   "source": [
    "model = tf.keras.models.Sequential([\n",
    "  tf.keras.layers.Flatten(input_shape=(28, 28)),\n",
    "  tf.keras.layers.Dense(128, activation='relu'),\n",
    "  tf.keras.layers.Dropout(0.2),\n",
    "  tf.keras.layers.Dense(10)\n",
    "])\n",
    "predictions = model(x_train[:1]).numpy()\n",
    "predictions"
   ]
  },
  {
   "cell_type": "code",
   "execution_count": 24,
   "metadata": {},
   "outputs": [
    {
     "data": {
      "text/plain": [
       "array([[0.07145307, 0.10874795, 0.15174785, 0.11954229, 0.04337208,\n",
       "        0.02047493, 0.04162139, 0.19342102, 0.18764374, 0.06197564]],\n",
       "      dtype=float32)"
      ]
     },
     "execution_count": 24,
     "metadata": {},
     "output_type": "execute_result"
    }
   ],
   "source": [
    "tf.nn.softmax(predictions).numpy()"
   ]
  },
  {
   "cell_type": "code",
   "execution_count": 25,
   "metadata": {},
   "outputs": [],
   "source": [
    "loss_fn = tf.keras.losses.SparseCategoricalCrossentropy(from_logits=True)"
   ]
  },
  {
   "cell_type": "code",
   "execution_count": 26,
   "metadata": {},
   "outputs": [],
   "source": [
    "loss_fn(y_train[:1], predictions).numpy()\n",
    "model.compile(optimizer='adam',\n",
    "              loss=loss_fn,\n",
    "              metrics=['accuracy'])"
   ]
  },
  {
   "cell_type": "code",
   "execution_count": 27,
   "metadata": {},
   "outputs": [
    {
     "name": "stdout",
     "output_type": "stream",
     "text": [
      "Epoch 1/5\n",
      "\u001b[1m1875/1875\u001b[0m \u001b[32m━━━━━━━━━━━━━━━━━━━━\u001b[0m\u001b[37m\u001b[0m \u001b[1m3s\u001b[0m 1ms/step - accuracy: 0.7614 - loss: 0.6822\n",
      "Epoch 2/5\n",
      "\u001b[1m1875/1875\u001b[0m \u001b[32m━━━━━━━━━━━━━━━━━━━━\u001b[0m\u001b[37m\u001b[0m \u001b[1m3s\u001b[0m 1ms/step - accuracy: 0.8508 - loss: 0.4113\n",
      "Epoch 3/5\n",
      "\u001b[1m1875/1875\u001b[0m \u001b[32m━━━━━━━━━━━━━━━━━━━━\u001b[0m\u001b[37m\u001b[0m \u001b[1m3s\u001b[0m 1ms/step - accuracy: 0.8641 - loss: 0.3670\n",
      "Epoch 4/5\n",
      "\u001b[1m1875/1875\u001b[0m \u001b[32m━━━━━━━━━━━━━━━━━━━━\u001b[0m\u001b[37m\u001b[0m \u001b[1m3s\u001b[0m 2ms/step - accuracy: 0.8726 - loss: 0.3495\n",
      "Epoch 5/5\n",
      "\u001b[1m1875/1875\u001b[0m \u001b[32m━━━━━━━━━━━━━━━━━━━━\u001b[0m\u001b[37m\u001b[0m \u001b[1m3s\u001b[0m 1ms/step - accuracy: 0.8811 - loss: 0.3260\n"
     ]
    },
    {
     "data": {
      "text/plain": [
       "<keras.src.callbacks.history.History at 0x369ba68d0>"
      ]
     },
     "execution_count": 27,
     "metadata": {},
     "output_type": "execute_result"
    }
   ],
   "source": [
    "\n",
    "model.fit(x_train, y_train, epochs=5)"
   ]
  },
  {
   "cell_type": "code",
   "execution_count": 28,
   "metadata": {},
   "outputs": [
    {
     "name": "stdout",
     "output_type": "stream",
     "text": [
      "313/313 - 0s - 717us/step - accuracy: 0.8698 - loss: 0.3594\n"
     ]
    },
    {
     "data": {
      "text/plain": [
       "[0.35940277576446533, 0.8697999715805054]"
      ]
     },
     "execution_count": 28,
     "metadata": {},
     "output_type": "execute_result"
    }
   ],
   "source": [
    "model.evaluate(x_test,  y_test, verbose=2)"
   ]
  },
  {
   "cell_type": "code",
   "execution_count": null,
   "metadata": {},
   "outputs": [],
   "source": []
  }
 ],
 "metadata": {
  "kernelspec": {
   "display_name": "base",
   "language": "python",
   "name": "python3"
  },
  "language_info": {
   "codemirror_mode": {
    "name": "ipython",
    "version": 3
   },
   "file_extension": ".py",
   "mimetype": "text/x-python",
   "name": "python",
   "nbconvert_exporter": "python",
   "pygments_lexer": "ipython3",
   "version": "3.11.7"
  }
 },
 "nbformat": 4,
 "nbformat_minor": 2
}
