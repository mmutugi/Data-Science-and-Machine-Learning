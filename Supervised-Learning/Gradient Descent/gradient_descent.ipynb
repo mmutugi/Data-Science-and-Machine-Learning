{
 "cells": [
  {
   "cell_type": "markdown",
   "metadata": {},
   "source": [
    "<div align=\"center\">\n",
    "\n",
    "# <span style=\"font-size: 2em;\">Welcome gradient Descent!</span>\n",
    "\n",
    "</div>\n",
    "\n",
    "<p align=\"center\">\n",
    "  <img src=\"gradient.png\" alt=\"Header\" />\n",
    "</p>\n",
    "\n",
    "<div align=\"center\">\n",
    "\n",
    "# <span style=\"font-size: em;\">Supervised Learning!</span>\n",
    "\n",
    "</div>\n",
    "\n",
    "\n"
   ]
  }
 ],
 "metadata": {
  "language_info": {
   "name": "python"
  }
 },
 "nbformat": 4,
 "nbformat_minor": 2
}
