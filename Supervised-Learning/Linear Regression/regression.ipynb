{
 "cells": [
  {
   "cell_type": "markdown",
   "metadata": {},
   "source": [
    "<div align=\"center\">\n",
    "\n",
    "# <span style=\"font-size: 2em;\">Welcome to Linear Regression!</span>\n",
    "\n",
    "</div>\n",
    "\n",
    "<p align=\"center\">\n",
    "  <img src=\"img_perceptron-Photoroom.png\" alt=\"Header\" />\n",
    "</p>\n",
    "\n",
    "<div align=\"center\">\n",
    "\n",
    "# <span style=\"font-size: em;\">Supervised Learning!</span>\n",
    "\n",
    "</div>"
   ]
  }
 ],
 "metadata": {
  "language_info": {
   "name": "python"
  }
 },
 "nbformat": 4,
 "nbformat_minor": 2
}
